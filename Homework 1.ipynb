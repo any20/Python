{
 "cells": [
  {
   "cell_type": "code",
   "execution_count": 6,
   "id": "337ec1c3",
   "metadata": {},
   "outputs": [
    {
     "data": {
      "text/plain": [
       "'chapter 1\\nthe living world\\n\\nchapter 2\\nbiological classification\\n\\nchapter 3\\nplant kingdom\\n\\nchapter 4\\nanimal kingdom\\n\\n \\n\\nunit i\\n\\ndiversity in the living world\\n\\nbiology is the science of life forms and living processes. the living world\\ncomprises an amazing diversity of living organisms. early man could\\neasily perceive the difference between inanimate matter and living\\norganisms. early man deified some of the inanimate matter (wind, sea,\\nfire etc.) and some among the animals and plants. a common feature of\\nall such forms of inanimate and animate objects was the sense of awe\\nor fear that they evoked. the description of living organisms including\\nhuman beings began much later in human history. societies which\\nindulged in anthropocentric view of biology could register limited\\nprogress in biological knowledge. systematic and monumental\\ndescription of life forms brought in, out of necessity, detailed systems\\nof identification, nomenclature and classification. the biggest spin off\\nof such studies was the recognition of the sharing of similarities among\\nliving organisms both horizontally and vertically. that all present day\\nliving organisms are related to each other and also to all organisms\\nthat ever lived on this earth, was a revelation which humbled man and\\nled to cultural movements for conservation of biodiversity. in the\\nfollowing chapters of this unit, you will get a description, including\\nclassification, of animals and plants from a taxonomistâ€™s perspective.\\n\\n2019-2020'"
      ]
     },
     "execution_count": 6,
     "metadata": {},
     "output_type": "execute_result"
    }
   ],
   "source": [
    "#reading txt file\n",
    "import re\n",
    "text=open('class_11_biology_chapter_1_0.txt','r').read()\n",
    "lowertext=text.lower() #transformare string in lower case\n",
    "lowertext"
   ]
  },
  {
   "cell_type": "code",
   "execution_count": 14,
   "id": "1fa8019c",
   "metadata": {},
   "outputs": [
    {
     "data": {
      "text/plain": [
       "['chapter 1\\nthe living world\\n\\nchapter 2\\nbiological classification\\n\\nchapter 3\\nplant kingdom\\n\\nchapter 4\\nanimal kingdom\\n\\n \\n\\nunit i\\n\\ndiversity in the living world\\n\\nbiology is the science of life forms and living processes.',\n",
       " 'the living world\\ncomprises an amazing diversity of living organisms.',\n",
       " 'early man could\\neasily perceive the difference between inanimate matter and living\\norganisms.',\n",
       " 'early man deified some of the inanimate matter (wind, sea,\\nfire etc.)',\n",
       " 'and some among the animals and plants.',\n",
       " 'a common feature of\\nall such forms of inanimate and animate objects was the sense of awe\\nor fear that they evoked.',\n",
       " 'the description of living organisms including\\nhuman beings began much later in human history.',\n",
       " 'societies which\\nindulged in anthropocentric view of biology could register limited\\nprogress in biological knowledge.',\n",
       " 'systematic and monumental\\ndescription of life forms brought in, out of necessity, detailed systems\\nof identification, nomenclature and classification.',\n",
       " 'the biggest spin off\\nof such studies was the recognition of the sharing of similarities among\\nliving organisms both horizontally and vertically.',\n",
       " 'that all present day\\nliving organisms are related to each other and also to all organisms\\nthat ever lived on this earth, was a revelation which humbled man and\\nled to cultural movements for conservation of biodiversity.',\n",
       " 'in the\\nfollowing chapters of this unit, you will get a description, including\\nclassification, of animals and plants from a taxonomistâ€™s perspective.',\n",
       " '2019-2020']"
      ]
     },
     "execution_count": 14,
     "metadata": {},
     "output_type": "execute_result"
    }
   ],
   "source": [
    "#Obtaining the file metadata\n",
    "from nltk.tokenize import sent_tokenize\n",
    "sentences=sent_tokenize(lowertext) #grupare dupa propozitii\n",
    "sentences"
   ]
  },
  {
   "cell_type": "code",
   "execution_count": 17,
   "id": "3cd4941c",
   "metadata": {},
   "outputs": [
    {
     "name": "stdout",
     "output_type": "stream",
     "text": [
      "Number of sentences:  13\n"
     ]
    }
   ],
   "source": [
    "nrSentences=len(sentences)\n",
    "print(\"Number of sentences: \",nrSentences)"
   ]
  },
  {
   "cell_type": "code",
   "execution_count": 34,
   "id": "d63e691d",
   "metadata": {},
   "outputs": [],
   "source": [
    "#The number of unique tokens obtained with word tokenize\n",
    "from nltk.tokenize import word_tokenize\n",
    "words=word_tokenize(lowertext)\n"
   ]
  },
  {
   "cell_type": "code",
   "execution_count": 36,
   "id": "db556311",
   "metadata": {},
   "outputs": [
    {
     "data": {
      "text/plain": [
       "FreqDist({'of': 17, 'the': 13, '.': 12, 'and': 11, 'living': 9, ',': 9, 'in': 6, 'organisms': 6, 'chapter': 4, 'a': 4, ...})"
      ]
     },
     "execution_count": 36,
     "metadata": {},
     "output_type": "execute_result"
    }
   ],
   "source": [
    "from nltk.probability import FreqDist\n",
    "freq_dist1=FreqDist(words)\n",
    "freq_dist1"
   ]
  },
  {
   "cell_type": "code",
   "execution_count": 60,
   "id": "75748d73",
   "metadata": {},
   "outputs": [
    {
     "name": "stdout",
     "output_type": "stream",
     "text": [
      "Number of unique words: 94\n"
     ]
    }
   ],
   "source": [
    "nr1=freq_dist1.hapaxes()\n",
    "print(\"Number of unique words:\",len(nr1))"
   ]
  },
  {
   "cell_type": "code",
   "execution_count": 33,
   "id": "1705ca3b",
   "metadata": {},
   "outputs": [],
   "source": [
    "#The number of uniwue tokens obtained with casual_tokenize\n",
    "from nltk.tokenize import casual_tokenize\n",
    "casWords=word_tokenize(lowertext)"
   ]
  },
  {
   "cell_type": "code",
   "execution_count": 37,
   "id": "e5355c6f",
   "metadata": {},
   "outputs": [
    {
     "data": {
      "text/plain": [
       "FreqDist({'of': 17, 'the': 13, '.': 12, 'and': 11, 'living': 9, ',': 9, 'in': 6, 'organisms': 6, 'chapter': 4, 'a': 4, ...})"
      ]
     },
     "execution_count": 37,
     "metadata": {},
     "output_type": "execute_result"
    }
   ],
   "source": [
    "freq_dist2=FreqDist(casWords)\n",
    "freq_dist2"
   ]
  },
  {
   "cell_type": "code",
   "execution_count": 61,
   "id": "264f7b87",
   "metadata": {},
   "outputs": [
    {
     "name": "stdout",
     "output_type": "stream",
     "text": [
      "Number of unique words: 94\n"
     ]
    }
   ],
   "source": [
    "nr2=freq_dist2.hapaxes()\n",
    "print(\"Number of unique words:\",len(nr2))"
   ]
  },
  {
   "cell_type": "code",
   "execution_count": 38,
   "id": "9a1e8027",
   "metadata": {},
   "outputs": [
    {
     "data": {
      "text/plain": [
       "FreqDist({'of': 17, 'the': 13, '.': 12, 'and': 11, 'living': 9, ',': 9, 'in': 6, 'organisms': 6, 'chapter': 4, 'a': 4, ...})"
      ]
     },
     "execution_count": 38,
     "metadata": {},
     "output_type": "execute_result"
    }
   ],
   "source": [
    "#The number of uniwue tokens obtained with casual_tokenize\n",
    "from nltk.tokenize import MWETokenizer\n",
    "mweWords=word_tokenize(lowertext)\n",
    "freq_dist3=FreqDist(mweWords)\n",
    "freq_dist3"
   ]
  },
  {
   "cell_type": "code",
   "execution_count": 42,
   "id": "3b81663c",
   "metadata": {},
   "outputs": [
    {
     "name": "stdout",
     "output_type": "stream",
     "text": [
      "Number of unique words: 94\n"
     ]
    }
   ],
   "source": [
    "nr=freq_dist3.hapaxes()\n",
    "print(\"Number of unique words:\",len(nr))"
   ]
  },
  {
   "cell_type": "code",
   "execution_count": 47,
   "id": "565c8d36",
   "metadata": {},
   "outputs": [
    {
     "name": "stdout",
     "output_type": "stream",
     "text": [
      "35\n",
      "11\n",
      "14\n",
      "17\n",
      "8\n",
      "23\n",
      "15\n",
      "16\n",
      "23\n",
      "23\n",
      "39\n",
      "26\n",
      "1\n"
     ]
    }
   ],
   "source": [
    "#nr de cuvinte din fiecare propozitie\n",
    "for each_sentence in sentences:\n",
    "    nrOfWords=len(word_tokenize(each_sentence))\n",
    "    print(nrOfWords)\n"
   ]
  },
  {
   "cell_type": "code",
   "execution_count": 64,
   "id": "8690802c",
   "metadata": {},
   "outputs": [
    {
     "ename": "AttributeError",
     "evalue": "'FreqDist' object has no attribute 'union'",
     "output_type": "error",
     "traceback": [
      "\u001b[1;31m---------------------------------------------------------------------------\u001b[0m",
      "\u001b[1;31mAttributeError\u001b[0m                            Traceback (most recent call last)",
      "\u001b[1;32m<ipython-input-64-9ff257642191>\u001b[0m in \u001b[0;36m<module>\u001b[1;34m\u001b[0m\n\u001b[0;32m      6\u001b[0m \u001b[0mporter\u001b[0m\u001b[1;33m=\u001b[0m\u001b[0mPorterStemmer\u001b[0m\u001b[1;33m(\u001b[0m\u001b[1;33m)\u001b[0m\u001b[1;33m\u001b[0m\u001b[1;33m\u001b[0m\u001b[0m\n\u001b[0;32m      7\u001b[0m \u001b[0mlancaster\u001b[0m\u001b[1;33m=\u001b[0m\u001b[0mLancasterStemmer\u001b[0m\u001b[1;33m(\u001b[0m\u001b[1;34m'english'\u001b[0m\u001b[1;33m)\u001b[0m\u001b[1;33m\u001b[0m\u001b[1;33m\u001b[0m\u001b[0m\n\u001b[1;32m----> 8\u001b[1;33m \u001b[0mnewSet\u001b[0m\u001b[1;33m=\u001b[0m\u001b[0mfreq_dist1\u001b[0m\u001b[1;33m.\u001b[0m\u001b[0munion\u001b[0m\u001b[1;33m(\u001b[0m\u001b[0mfreq_dist2\u001b[0m\u001b[1;33m)\u001b[0m\u001b[1;33m\u001b[0m\u001b[1;33m\u001b[0m\u001b[0m\n\u001b[0m\u001b[0;32m      9\u001b[0m \u001b[0mnewSet\u001b[0m\u001b[1;33m\u001b[0m\u001b[1;33m\u001b[0m\u001b[0m\n",
      "\u001b[1;31mAttributeError\u001b[0m: 'FreqDist' object has no attribute 'union'"
     ]
    }
   ],
   "source": [
    "#Compararea stemmerilor\n",
    "from nltk.stem import PorterStemmer\n",
    "from nltk.stem import LancasterStemmer\n",
    "from nltk.stem import SnowballStemmer\n",
    "snowball=SnowballStemmer('english')\n",
    "porter=PorterStemmer()\n",
    "lancaster=LancasterStemmer('english')\n",
    "newSet=freq_dist1.union(freq_dist2)\n",
    "newSet"
   ]
  },
  {
   "cell_type": "code",
   "execution_count": null,
   "id": "889437c5",
   "metadata": {},
   "outputs": [],
   "source": []
  }
 ],
 "metadata": {
  "kernelspec": {
   "display_name": "Python 3",
   "language": "python",
   "name": "python3"
  },
  "language_info": {
   "codemirror_mode": {
    "name": "ipython",
    "version": 3
   },
   "file_extension": ".py",
   "mimetype": "text/x-python",
   "name": "python",
   "nbconvert_exporter": "python",
   "pygments_lexer": "ipython3",
   "version": "3.9.4"
  }
 },
 "nbformat": 4,
 "nbformat_minor": 5
}
